{
 "cells": [
  {
   "cell_type": "code",
   "execution_count": 1,
   "metadata": {},
   "outputs": [],
   "source": [
    "%load_ext autoreload\n",
    "%autoreload 2"
   ]
  },
  {
   "cell_type": "code",
   "execution_count": 2,
   "metadata": {},
   "outputs": [],
   "source": [
    "from NYCtaxifarePredictor.trainer import Trainer\n",
    "from NYCtaxifarePredictor.data import get_data, clean_data"
   ]
  },
  {
   "cell_type": "markdown",
   "metadata": {},
   "source": [
    "## small scale"
   ]
  },
  {
   "cell_type": "code",
   "execution_count": 3,
   "metadata": {},
   "outputs": [],
   "source": [
    "df = get_data(n=100000)\n",
    "df = clean_data(df)"
   ]
  },
  {
   "cell_type": "code",
   "execution_count": 4,
   "metadata": {},
   "outputs": [
    {
     "name": "stdout",
     "output_type": "stream",
     "text": [
      "\u001b[32m---------------------- loading data  ----------------------\u001b[0m\n",
      "\u001b[31m---------------------- split = True ----------------------\u001b[0m\n",
      "{'test_size': 0.1, 'random_state': 5}\n",
      "\u001b[34m---------------------- splitting train/val  ----------------------\u001b[0m\n",
      "\u001b[34m---------------------- getting pipeline  ----------------------\u001b[0m\n",
      "\u001b[34m---------------------- getting estimator  ----------------------\u001b[0m\n",
      "\u001b[31m---------------------- XGBRegressor ----------------------\u001b[0m\n",
      "\u001b[32m---------------------- start training  ----------------------\u001b[0m\n",
      "Fitting 5 folds for each of 27 candidates, totalling 135 fits\n"
     ]
    },
    {
     "name": "stderr",
     "output_type": "stream",
     "text": [
      "[Parallel(n_jobs=1)]: Using backend SequentialBackend with 1 concurrent workers.\n",
      "[Parallel(n_jobs=1)]: Done 135 out of 135 | elapsed: 25.3min finished\n"
     ]
    },
    {
     "name": "stdout",
     "output_type": "stream",
     "text": [
      "Grid Scores:\n",
      "test:3.393 train:3.082 for {'model__learning_rate': 0.08, 'model__max_depth': 4, 'model__min_child_weight': 2, 'model__n_estimators': 100}\n",
      "test:3.384 train:3.099 for {'model__learning_rate': 0.08, 'model__max_depth': 4, 'model__min_child_weight': 4, 'model__n_estimators': 100}\n",
      "test:3.388 train:3.116 for {'model__learning_rate': 0.08, 'model__max_depth': 4, 'model__min_child_weight': 6, 'model__n_estimators': 100}\n",
      "test:3.355 train:2.863 for {'model__learning_rate': 0.08, 'model__max_depth': 5, 'model__min_child_weight': 2, 'model__n_estimators': 100}\n",
      "test:3.344 train:2.893 for {'model__learning_rate': 0.08, 'model__max_depth': 5, 'model__min_child_weight': 4, 'model__n_estimators': 100}\n",
      "test:3.336 train:2.925 for {'model__learning_rate': 0.08, 'model__max_depth': 5, 'model__min_child_weight': 6, 'model__n_estimators': 100}\n",
      "test:3.311 train:2.645 for {'model__learning_rate': 0.08, 'model__max_depth': 6, 'model__min_child_weight': 2, 'model__n_estimators': 100}\n",
      "test:3.309 train:2.694 for {'model__learning_rate': 0.08, 'model__max_depth': 6, 'model__min_child_weight': 4, 'model__n_estimators': 100}\n",
      "test:3.305 train:2.738 for {'model__learning_rate': 0.08, 'model__max_depth': 6, 'model__min_child_weight': 6, 'model__n_estimators': 100}\n",
      "test:3.372 train:3.023 for {'model__learning_rate': 0.1, 'model__max_depth': 4, 'model__min_child_weight': 2, 'model__n_estimators': 100}\n",
      "test:3.366 train:3.041 for {'model__learning_rate': 0.1, 'model__max_depth': 4, 'model__min_child_weight': 4, 'model__n_estimators': 100}\n",
      "test:3.363 train:3.057 for {'model__learning_rate': 0.1, 'model__max_depth': 4, 'model__min_child_weight': 6, 'model__n_estimators': 100}\n",
      "test:3.334 train:2.799 for {'model__learning_rate': 0.1, 'model__max_depth': 5, 'model__min_child_weight': 2, 'model__n_estimators': 100}\n",
      "test:3.324 train:2.83 for {'model__learning_rate': 0.1, 'model__max_depth': 5, 'model__min_child_weight': 4, 'model__n_estimators': 100}\n",
      "test:3.323 train:2.865 for {'model__learning_rate': 0.1, 'model__max_depth': 5, 'model__min_child_weight': 6, 'model__n_estimators': 100}\n",
      "test:3.297 train:2.571 for {'model__learning_rate': 0.1, 'model__max_depth': 6, 'model__min_child_weight': 2, 'model__n_estimators': 100}\n",
      "test:3.297 train:2.626 for {'model__learning_rate': 0.1, 'model__max_depth': 6, 'model__min_child_weight': 4, 'model__n_estimators': 100}\n",
      "test:3.3 train:2.672 for {'model__learning_rate': 0.1, 'model__max_depth': 6, 'model__min_child_weight': 6, 'model__n_estimators': 100}\n",
      "test:3.353 train:2.975 for {'model__learning_rate': 0.12, 'model__max_depth': 4, 'model__min_child_weight': 2, 'model__n_estimators': 100}\n",
      "test:3.352 train:2.99 for {'model__learning_rate': 0.12, 'model__max_depth': 4, 'model__min_child_weight': 4, 'model__n_estimators': 100}\n",
      "test:3.343 train:3.006 for {'model__learning_rate': 0.12, 'model__max_depth': 4, 'model__min_child_weight': 6, 'model__n_estimators': 100}\n",
      "test:3.333 train:2.741 for {'model__learning_rate': 0.12, 'model__max_depth': 5, 'model__min_child_weight': 2, 'model__n_estimators': 100}\n",
      "test:3.328 train:2.783 for {'model__learning_rate': 0.12, 'model__max_depth': 5, 'model__min_child_weight': 4, 'model__n_estimators': 100}\n",
      "test:3.311 train:2.808 for {'model__learning_rate': 0.12, 'model__max_depth': 5, 'model__min_child_weight': 6, 'model__n_estimators': 100}\n",
      "test:3.284 train:2.511 for {'model__learning_rate': 0.12, 'model__max_depth': 6, 'model__min_child_weight': 2, 'model__n_estimators': 100}\n",
      "test:3.298 train:2.569 for {'model__learning_rate': 0.12, 'model__max_depth': 6, 'model__min_child_weight': 4, 'model__n_estimators': 100}\n",
      "test:3.284 train:2.618 for {'model__learning_rate': 0.12, 'model__max_depth': 6, 'model__min_child_weight': 6, 'model__n_estimators': 100}\n",
      "\u001b[31m---------------------- best_params ----------------------\u001b[0m\n",
      "{'model__learning_rate': 0.12, 'model__max_depth': 6, 'model__min_child_weight': 6, 'model__n_estimators': 100}\n",
      "train time: 1533\n",
      "\u001b[32m---------------------- evaluating  ----------------------\u001b[0m\n",
      "\u001b[31m----------------------  val_RMSE: 3.444  ----------------------\u001b[0m\n",
      "\u001b[31m----------------------  train_RMSE: 2.644  ----------------------\u001b[0m\n",
      "\u001b[32m---------------------- logging params and metrics  ----------------------\u001b[0m\n",
      "Wall time: 26min 18s\n"
     ]
    }
   ],
   "source": [
    "%%time\n",
    "xgb = Trainer(df, mlflow=True, run_name='run1', estimator_params=dict(\n",
    "                                                    n_estimators=[100],\n",
    "                                                    max_depth=[4, 5, 6],\n",
    "                                                    min_child_weight=[2, 4, 6],\n",
    "                                                    learning_rate=[0.08, 0.1, 0.12]\n",
    "                                                ))\n",
    "xgb.train_model()\n",
    "xgb.evaluate()"
   ]
  },
  {
   "cell_type": "markdown",
   "metadata": {},
   "source": [
    "## medium scale"
   ]
  },
  {
   "cell_type": "code",
   "execution_count": null,
   "metadata": {},
   "outputs": [],
   "source": [
    "%%time\n",
    "df = get_data(n=1000000)\n",
    "df = clean_data(df)"
   ]
  },
  {
   "cell_type": "code",
   "execution_count": null,
   "metadata": {},
   "outputs": [],
   "source": [
    "%%time\n",
    "xgb = Trainer(df, mlflow=True, run_name='run2', estimator_params=dict(\n",
    "                                                    n_estimators=[100], \n",
    "                                                    max_depth=[5, 8, 10],\n",
    "                                                    min_child_weight=[2, 6, 10],\n",
    "                                                    learning_rate=[0.1, 0.12, 0.15]\n",
    "                                                ))\n",
    "xgb.train_model()\n",
    "xgb.evaluate()"
   ]
  },
  {
   "cell_type": "code",
   "execution_count": null,
   "metadata": {},
   "outputs": [],
   "source": []
  }
 ],
 "metadata": {
  "kernelspec": {
   "display_name": "Python 3",
   "language": "python",
   "name": "python3"
  },
  "language_info": {
   "codemirror_mode": {
    "name": "ipython",
    "version": 3
   },
   "file_extension": ".py",
   "mimetype": "text/x-python",
   "name": "python",
   "nbconvert_exporter": "python",
   "pygments_lexer": "ipython3",
   "version": "3.7.7"
  },
  "toc": {
   "base_numbering": 1,
   "nav_menu": {
    "height": "140px",
    "width": "164px"
   },
   "number_sections": true,
   "sideBar": true,
   "skip_h1_title": false,
   "title_cell": "Table of Contents",
   "title_sidebar": "Contents",
   "toc_cell": false,
   "toc_position": {},
   "toc_section_display": true,
   "toc_window_display": false
  }
 },
 "nbformat": 4,
 "nbformat_minor": 4
}
