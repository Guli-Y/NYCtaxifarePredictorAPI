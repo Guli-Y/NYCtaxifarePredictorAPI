{
 "cells": [
  {
   "cell_type": "code",
   "execution_count": 1,
   "metadata": {},
   "outputs": [],
   "source": [
    "import pandas as pd\n",
    "import gcsfs"
   ]
  },
  {
   "cell_type": "code",
   "execution_count": 2,
   "metadata": {},
   "outputs": [],
   "source": [
    "url = 'gs://nyc_taxifare_predictor/data/train.csv'\n",
    "df = pd.read_csv(url, nrows=100, encoding='utf-8')"
   ]
  },
  {
   "cell_type": "code",
   "execution_count": 3,
   "metadata": {},
   "outputs": [
    {
     "data": {
      "text/plain": [
       "[{'key': '2012-04-21 04:30:42.0000001',\n",
       "  'pickup_datetime': '2012-04-21 04:30:42 UTC',\n",
       "  'pickup_longitude': -73.98713000000001,\n",
       "  'pickup_latitude': 40.733143,\n",
       "  'dropoff_longitude': -73.991567,\n",
       "  'dropoff_latitude': 40.758092,\n",
       "  'passenger_count': 1},\n",
       " {'key': '2010-03-09 07:51:00.000000135',\n",
       "  'pickup_datetime': '2010-03-09 07:51:00 UTC',\n",
       "  'pickup_longitude': -73.96809499999999,\n",
       "  'pickup_latitude': 40.768008,\n",
       "  'dropoff_longitude': -73.956655,\n",
       "  'dropoff_latitude': 40.783762,\n",
       "  'passenger_count': 1},\n",
       " {'key': '2011-01-06 09:50:45.0000002',\n",
       "  'pickup_datetime': '2011-01-06 09:50:45 UTC',\n",
       "  'pickup_longitude': -74.000964,\n",
       "  'pickup_latitude': 40.731629999999996,\n",
       "  'dropoff_longitude': -73.972892,\n",
       "  'dropoff_latitude': 40.758233000000004,\n",
       "  'passenger_count': 1},\n",
       " {'key': '2012-11-20 20:35:00.0000001',\n",
       "  'pickup_datetime': '2012-11-20 20:35:00 UTC',\n",
       "  'pickup_longitude': -73.980002,\n",
       "  'pickup_latitude': 40.751661999999996,\n",
       "  'dropoff_longitude': -73.973802,\n",
       "  'dropoff_latitude': 40.764842,\n",
       "  'passenger_count': 1}]"
      ]
     },
     "execution_count": 3,
     "metadata": {},
     "output_type": "execute_result"
    }
   ],
   "source": [
    "df = df.dropna(how='any',  axis='rows')\n",
    "instances = df.drop(\"fare_amount\", axis=1).to_dict(orient=\"records\")\n",
    "instances[3:7]"
   ]
  },
  {
   "cell_type": "code",
   "execution_count": 1,
   "metadata": {},
   "outputs": [
    {
     "name": "stdout",
     "output_type": "stream",
     "text": [
      "Wall time: 1.1 s\n"
     ]
    },
    {
     "data": {
      "text/plain": [
       "{'predictions': [11.555]}"
      ]
     },
     "execution_count": 1,
     "metadata": {},
     "output_type": "execute_result"
    }
   ],
   "source": [
    "%%time\n",
    "import requests\n",
    "trips = [{\n",
    "          'pickup_datetime': '2021-1-2 20:35:00 UTC',\n",
    "          'pickup_longitude': -73.987,\n",
    "          'pickup_latitude': 40.733,\n",
    "          'dropoff_longitude': -73.991,\n",
    "          'dropoff_latitude': 40.758\n",
    "          }]\n",
    "api_url = 'https://nyc-taxi-fare-predictor-api.herokuapp.com/'\n",
    "result = requests.get(api_url+\"predict_fare\", json=trips).json()\n",
    "result"
   ]
  }
 ],
 "metadata": {
  "kernelspec": {
   "display_name": "Python 3",
   "language": "python",
   "name": "python3"
  },
  "language_info": {
   "codemirror_mode": {
    "name": "ipython",
    "version": 3
   },
   "file_extension": ".py",
   "mimetype": "text/x-python",
   "name": "python",
   "nbconvert_exporter": "python",
   "pygments_lexer": "ipython3",
   "version": "3.7.7"
  },
  "toc": {
   "base_numbering": 1,
   "nav_menu": {},
   "number_sections": true,
   "sideBar": true,
   "skip_h1_title": false,
   "title_cell": "Table of Contents",
   "title_sidebar": "Contents",
   "toc_cell": false,
   "toc_position": {},
   "toc_section_display": true,
   "toc_window_display": false
  }
 },
 "nbformat": 4,
 "nbformat_minor": 4
}
